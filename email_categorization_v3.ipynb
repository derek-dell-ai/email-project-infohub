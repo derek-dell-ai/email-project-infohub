{
 "cells": [
  {
   "cell_type": "code",
   "execution_count": 1,
   "id": "93b86eb3",
   "metadata": {},
   "outputs": [
    {
     "data": {
      "text/html": [
       "<div>\n",
       "<style scoped>\n",
       "    .dataframe tbody tr th:only-of-type {\n",
       "        vertical-align: middle;\n",
       "    }\n",
       "\n",
       "    .dataframe tbody tr th {\n",
       "        vertical-align: top;\n",
       "    }\n",
       "\n",
       "    .dataframe thead th {\n",
       "        text-align: right;\n",
       "    }\n",
       "</style>\n",
       "<table border=\"1\" class=\"dataframe\">\n",
       "  <thead>\n",
       "    <tr style=\"text-align: right;\">\n",
       "      <th></th>\n",
       "      <th>file</th>\n",
       "      <th>message</th>\n",
       "    </tr>\n",
       "  </thead>\n",
       "  <tbody>\n",
       "    <tr>\n",
       "      <th>0</th>\n",
       "      <td>allen-p/_sent_mail/1.</td>\n",
       "      <td>Message-ID: &lt;18782981.1075855378110.JavaMail.e...</td>\n",
       "    </tr>\n",
       "    <tr>\n",
       "      <th>1</th>\n",
       "      <td>allen-p/_sent_mail/10.</td>\n",
       "      <td>Message-ID: &lt;15464986.1075855378456.JavaMail.e...</td>\n",
       "    </tr>\n",
       "    <tr>\n",
       "      <th>2</th>\n",
       "      <td>allen-p/_sent_mail/100.</td>\n",
       "      <td>Message-ID: &lt;24216240.1075855687451.JavaMail.e...</td>\n",
       "    </tr>\n",
       "  </tbody>\n",
       "</table>\n",
       "</div>"
      ],
      "text/plain": [
       "                      file                                            message\n",
       "0    allen-p/_sent_mail/1.  Message-ID: <18782981.1075855378110.JavaMail.e...\n",
       "1   allen-p/_sent_mail/10.  Message-ID: <15464986.1075855378456.JavaMail.e...\n",
       "2  allen-p/_sent_mail/100.  Message-ID: <24216240.1075855687451.JavaMail.e..."
      ]
     },
     "execution_count": 1,
     "metadata": {},
     "output_type": "execute_result"
    }
   ],
   "source": [
    "# Using CUDA - Accelerated data analysis for GPU\n",
    "import cudf\n",
    "\n",
    "# Loading the emails\n",
    "df = cudf.read_csv('../data/emails.csv')\n",
    "\n",
    "# Printing out the first three rows\n",
    "df.head(3)"
   ]
  },
  {
   "cell_type": "code",
   "execution_count": 2,
   "id": "f0ab4fc8",
   "metadata": {},
   "outputs": [
    {
     "name": "stdout",
     "output_type": "stream",
     "text": [
      "The DataFrame has 517401 emails.\n"
     ]
    }
   ],
   "source": [
    "# Getting a look at how many emails\n",
    "print(f\"The DataFrame has {df.shape[0]} emails.\")  \n"
   ]
  },
  {
   "cell_type": "code",
   "execution_count": 3,
   "id": "2b08ca18",
   "metadata": {},
   "outputs": [
    {
     "data": {
      "text/html": [
       "<div>\n",
       "<style scoped>\n",
       "    .dataframe tbody tr th:only-of-type {\n",
       "        vertical-align: middle;\n",
       "    }\n",
       "\n",
       "    .dataframe tbody tr th {\n",
       "        vertical-align: top;\n",
       "    }\n",
       "\n",
       "    .dataframe thead th {\n",
       "        text-align: right;\n",
       "    }\n",
       "</style>\n",
       "<table border=\"1\" class=\"dataframe\">\n",
       "  <thead>\n",
       "    <tr style=\"text-align: right;\">\n",
       "      <th></th>\n",
       "      <th>file</th>\n",
       "      <th>message</th>\n",
       "      <th>cleaned_message</th>\n",
       "    </tr>\n",
       "  </thead>\n",
       "  <tbody>\n",
       "    <tr>\n",
       "      <th>0</th>\n",
       "      <td>allen-p/_sent_mail/1.</td>\n",
       "      <td>Message-ID: &lt;18782981.1075855378110.JavaMail.e...</td>\n",
       "      <td>here is our forecast</td>\n",
       "    </tr>\n",
       "    <tr>\n",
       "      <th>1</th>\n",
       "      <td>allen-p/_sent_mail/10.</td>\n",
       "      <td>Message-ID: &lt;15464986.1075855378456.JavaMail.e...</td>\n",
       "      <td>traveling to have a business meeting takes the...</td>\n",
       "    </tr>\n",
       "    <tr>\n",
       "      <th>2</th>\n",
       "      <td>allen-p/_sent_mail/100.</td>\n",
       "      <td>Message-ID: &lt;24216240.1075855687451.JavaMail.e...</td>\n",
       "      <td>test successful  way to go</td>\n",
       "    </tr>\n",
       "  </tbody>\n",
       "</table>\n",
       "</div>"
      ],
      "text/plain": [
       "                      file                                            message  \\\n",
       "0    allen-p/_sent_mail/1.  Message-ID: <18782981.1075855378110.JavaMail.e...   \n",
       "1   allen-p/_sent_mail/10.  Message-ID: <15464986.1075855378456.JavaMail.e...   \n",
       "2  allen-p/_sent_mail/100.  Message-ID: <24216240.1075855687451.JavaMail.e...   \n",
       "\n",
       "                                     cleaned_message  \n",
       "0                               here is our forecast  \n",
       "1  traveling to have a business meeting takes the...  \n",
       "2                         test successful  way to go  "
      ]
     },
     "execution_count": 3,
     "metadata": {},
     "output_type": "execute_result"
    }
   ],
   "source": [
    "# Remove metadata (headers) and keep only the email body\n",
    "def clean_email_body(message):\n",
    "    # Split the message at the first blank line (using \\n) to separate headers from the body\n",
    "    body = cudf.Series(message).str.split('\\n\\n', expand=True)[1]\n",
    "    return body.str.replace(r'[^a-zA-Z\\s]', '', regex=True).str.lower()\n",
    "\n",
    "# Apply the cleaning function\n",
    "df['cleaned_message'] = clean_email_body(df['message'])\n",
    "\n",
    "# Check the cleaned message column\n",
    "df.head(3)"
   ]
  },
  {
   "cell_type": "code",
   "execution_count": 4,
   "id": "1eed9026",
   "metadata": {},
   "outputs": [
    {
     "name": "stdout",
     "output_type": "stream",
     "text": [
      "Time taken for categorization: 2.8210206031799316 seconds\n",
      "\n",
      "\n"
     ]
    },
    {
     "data": {
      "text/html": [
       "<div>\n",
       "<style scoped>\n",
       "    .dataframe tbody tr th:only-of-type {\n",
       "        vertical-align: middle;\n",
       "    }\n",
       "\n",
       "    .dataframe tbody tr th {\n",
       "        vertical-align: top;\n",
       "    }\n",
       "\n",
       "    .dataframe thead th {\n",
       "        text-align: right;\n",
       "    }\n",
       "</style>\n",
       "<table border=\"1\" class=\"dataframe\">\n",
       "  <thead>\n",
       "    <tr style=\"text-align: right;\">\n",
       "      <th></th>\n",
       "      <th>file</th>\n",
       "      <th>message</th>\n",
       "      <th>cleaned_message</th>\n",
       "      <th>category</th>\n",
       "    </tr>\n",
       "  </thead>\n",
       "  <tbody>\n",
       "    <tr>\n",
       "      <th>0</th>\n",
       "      <td>allen-p/_sent_mail/1.</td>\n",
       "      <td>Message-ID: &lt;18782981.1075855378110.JavaMail.e...</td>\n",
       "      <td>here is our forecast</td>\n",
       "      <td>regular</td>\n",
       "    </tr>\n",
       "    <tr>\n",
       "      <th>1</th>\n",
       "      <td>allen-p/_sent_mail/10.</td>\n",
       "      <td>Message-ID: &lt;15464986.1075855378456.JavaMail.e...</td>\n",
       "      <td>traveling to have a business meeting takes the...</td>\n",
       "      <td>routine</td>\n",
       "    </tr>\n",
       "    <tr>\n",
       "      <th>2</th>\n",
       "      <td>allen-p/_sent_mail/100.</td>\n",
       "      <td>Message-ID: &lt;24216240.1075855687451.JavaMail.e...</td>\n",
       "      <td>test successful  way to go</td>\n",
       "      <td>regular</td>\n",
       "    </tr>\n",
       "  </tbody>\n",
       "</table>\n",
       "</div>"
      ],
      "text/plain": [
       "                      file                                            message  \\\n",
       "0    allen-p/_sent_mail/1.  Message-ID: <18782981.1075855378110.JavaMail.e...   \n",
       "1   allen-p/_sent_mail/10.  Message-ID: <15464986.1075855378456.JavaMail.e...   \n",
       "2  allen-p/_sent_mail/100.  Message-ID: <24216240.1075855687451.JavaMail.e...   \n",
       "\n",
       "                                     cleaned_message category  \n",
       "0                               here is our forecast  regular  \n",
       "1  traveling to have a business meeting takes the...  routine  \n",
       "2                         test successful  way to go  regular  "
      ]
     },
     "execution_count": 4,
     "metadata": {},
     "output_type": "execute_result"
    }
   ],
   "source": [
    "import time\n",
    "\n",
    "# Categories with associated keywords (just data engineering, not ML but shows how quickly rapids works)\n",
    "categories = {\n",
    "    'important': ['deadline', 'asap', 'critical', 'urgent', 'quickly'],\n",
    "    'illegal': ['money laundering', 'scam', 'tax fraud', 'payoff', 'shady'],\n",
    "    'phishing': ['account verification', 'verify your identity', 'suspicious activity'],\n",
    "    'spam': ['win', 'offer', 'free', 'click here'],\n",
    "    'routine': ['meeting', 'catch up', 'hello', 'update'],\n",
    "}\n",
    "\n",
    "# Start timing\n",
    "start_time = time.time()\n",
    "\n",
    "# Create a new column to store the category\n",
    "df['category'] = 'regular'  # Initialize all emails as regular\n",
    "\n",
    "# Iterate over each category and its associated keywords\n",
    "for category, keywords in categories.items():\n",
    "    # Create a mask where any keyword matches in the cleaned_message\n",
    "    mask = df['cleaned_message'].str.contains('|'.join(keywords), regex=True)\n",
    "    \n",
    "    # Assign the category to rows where the mask is True\n",
    "    df['category'] = df['category'].where(~mask, other=category)\n",
    "\n",
    "# End timing\n",
    "end_time = time.time()\n",
    "\n",
    "# Print the time taken for the operation\n",
    "print(f\"Time taken for categorization: {end_time - start_time} seconds\")\n",
    "\n",
    "# Newline Print\n",
    "print('\\n')\n",
    "\n",
    "# Check the first few categorized emails\n",
    "df.head(3)"
   ]
  },
  {
   "cell_type": "code",
   "execution_count": 5,
   "id": "cab2dc8e",
   "metadata": {},
   "outputs": [
    {
     "data": {
      "text/plain": [
       "category\n",
       "regular      448437\n",
       "spam          33698\n",
       "routine       31039\n",
       "important      4161\n",
       "illegal          62\n",
       "phishing          4\n",
       "Name: count, dtype: int64"
      ]
     },
     "execution_count": 5,
     "metadata": {},
     "output_type": "execute_result"
    }
   ],
   "source": [
    "df['category'].value_counts()\n"
   ]
  },
  {
   "cell_type": "code",
   "execution_count": 6,
   "id": "ecfddde3",
   "metadata": {},
   "outputs": [
    {
     "name": "stdout",
     "output_type": "stream",
     "text": [
      "Exported\n"
     ]
    }
   ],
   "source": [
    "# Write the DataFrame to the specified directory because I need to use the GPU for LLMs, ordinarily you'd have a separate server\n",
    "df.to_csv('../data/emails_cleaned_v2.csv', index=False)\n",
    "print('Exported')"
   ]
  },
  {
   "cell_type": "code",
   "execution_count": 1,
   "id": "094efbea",
   "metadata": {},
   "outputs": [
    {
     "data": {
      "text/html": [
       "<div>\n",
       "<style scoped>\n",
       "    .dataframe tbody tr th:only-of-type {\n",
       "        vertical-align: middle;\n",
       "    }\n",
       "\n",
       "    .dataframe tbody tr th {\n",
       "        vertical-align: top;\n",
       "    }\n",
       "\n",
       "    .dataframe thead th {\n",
       "        text-align: right;\n",
       "    }\n",
       "</style>\n",
       "<table border=\"1\" class=\"dataframe\">\n",
       "  <thead>\n",
       "    <tr style=\"text-align: right;\">\n",
       "      <th></th>\n",
       "      <th>file</th>\n",
       "      <th>message</th>\n",
       "      <th>cleaned_message</th>\n",
       "      <th>category</th>\n",
       "    </tr>\n",
       "  </thead>\n",
       "  <tbody>\n",
       "    <tr>\n",
       "      <th>0</th>\n",
       "      <td>allen-p/_sent_mail/1.</td>\n",
       "      <td>Message-ID: &lt;18782981.1075855378110.JavaMail.e...</td>\n",
       "      <td>here is our forecast</td>\n",
       "      <td>regular</td>\n",
       "    </tr>\n",
       "    <tr>\n",
       "      <th>1</th>\n",
       "      <td>allen-p/_sent_mail/10.</td>\n",
       "      <td>Message-ID: &lt;15464986.1075855378456.JavaMail.e...</td>\n",
       "      <td>traveling to have a business meeting takes the...</td>\n",
       "      <td>routine</td>\n",
       "    </tr>\n",
       "    <tr>\n",
       "      <th>2</th>\n",
       "      <td>allen-p/_sent_mail/100.</td>\n",
       "      <td>Message-ID: &lt;24216240.1075855687451.JavaMail.e...</td>\n",
       "      <td>test successful  way to go</td>\n",
       "      <td>regular</td>\n",
       "    </tr>\n",
       "  </tbody>\n",
       "</table>\n",
       "</div>"
      ],
      "text/plain": [
       "                      file                                            message  \\\n",
       "0    allen-p/_sent_mail/1.  Message-ID: <18782981.1075855378110.JavaMail.e...   \n",
       "1   allen-p/_sent_mail/10.  Message-ID: <15464986.1075855378456.JavaMail.e...   \n",
       "2  allen-p/_sent_mail/100.  Message-ID: <24216240.1075855687451.JavaMail.e...   \n",
       "\n",
       "                                     cleaned_message category  \n",
       "0                               here is our forecast  regular  \n",
       "1  traveling to have a business meeting takes the...  routine  \n",
       "2                         test successful  way to go  regular  "
      ]
     },
     "execution_count": 1,
     "metadata": {},
     "output_type": "execute_result"
    }
   ],
   "source": [
    "# Reading in the clean emails, no GPU so I did not use cuDF\n",
    "import pandas as pd\n",
    "\n",
    "# Read the CSV into a pandas DataFrame\n",
    "df = pd.read_csv('../data/emails_cleaned.csv')\n",
    "\n",
    "# Check the first few rows\n",
    "df.head(3)"
   ]
  },
  {
   "cell_type": "code",
   "execution_count": 2,
   "id": "75b53a5e",
   "metadata": {},
   "outputs": [],
   "source": [
    "# Connecting to my Llama3.1 NIM \n",
    "from openai import OpenAI\n",
    "\n",
    "# Set up the OpenAI client with the local NIM instance (remove IP)\n",
    "client = OpenAI(\n",
    "    base_url=\"http://172.29.202.76:8000/v1\",  \n",
    "    api_key=\"dummy_api_key\"  \n",
    ")"
   ]
  },
  {
   "cell_type": "code",
   "execution_count": 3,
   "id": "c8c63517",
   "metadata": {},
   "outputs": [],
   "source": [
    "# Extracting knowledge using the LLM with a fallback for short emails\n",
    "def extract_knowledge(email_text):\n",
    "    system_prompt = \"You are an expert in extracting key facts and insights from emails.\"\n",
    "\n",
    "    # Define a threshold for what we consider \"short\"\n",
    "    word_count = len(email_text.split())\n",
    "    if word_count < 10:  # Threshold for short emails (originally was 5)\n",
    "        return \"The email content is too brief to extract meaningful knowledge.\"\n",
    "\n",
    "    # Knowledge extraction prompt for regular emails\n",
    "    user_prompt = f\"\"\"Extract the key pieces of information from the following email:\n",
    "    \n",
    "    Email content: \"{email_text}\"\n",
    "    \n",
    "    Identify any important facts, dates, names, instructions, or other relevant information. Summarize the key knowledge from this email.\"\"\"\n",
    "\n",
    "    # Create a chat completion request to the LLM\n",
    "    completion = client.chat.completions.create(\n",
    "        model=\"meta/llama-3.1-8b-instruct\",  # Your model\n",
    "        messages=[\n",
    "            {\"role\": \"system\", \"content\": system_prompt},\n",
    "            {\"role\": \"user\", \"content\": user_prompt}\n",
    "        ],\n",
    "        temperature=0.2,\n",
    "        top_p=0.7,\n",
    "        max_tokens=250,\n",
    "        stream=False  \n",
    "    )\n",
    "\n",
    "    # Extract the message content from the response\n",
    "    knowledge_content = \"\"\n",
    "    for choice in completion.choices:\n",
    "        knowledge_content += choice.message.content\n",
    "    \n",
    "    return knowledge_content\n"
   ]
  },
  {
   "cell_type": "code",
   "execution_count": 4,
   "id": "e2c4e3be",
   "metadata": {},
   "outputs": [
    {
     "name": "stdout",
     "output_type": "stream",
     "text": [
      "Time taken for extracting knowledge from 100 emails: 29.85118007659912 seconds\n"
     ]
    }
   ],
   "source": [
    "import time\n",
    "\n",
    "# Fill any missing or NaN values in the 'cleaned_message' column with a default string\n",
    "df['cleaned_message'] = df['cleaned_message'].fillna('')\n",
    "\n",
    "# Apply the function to the first 100 emails and time the process\n",
    "start_time = time.time()\n",
    "\n",
    "# Subset the first 100 emails and create a copy to avoid SettingWithCopyWarning\n",
    "df_subset = df.head(100).copy()\n",
    "\n",
    "# Apply the extract_knowledge function using .loc[] to avoid the warning\n",
    "df_subset.loc[:, 'extracted_knowledge'] = df_subset['cleaned_message'].apply(extract_knowledge)\n",
    "\n",
    "end_time = time.time()\n",
    "\n",
    "# Print the time taken\n",
    "print(f\"Time taken for extracting knowledge from 100 emails: {end_time - start_time} seconds\")\n",
    "\n",
    "# Save the DataFrame to CSV\n",
    "df_subset.to_csv('../data/emails_with_extracted_knowledge_100_30SEP24_v1.csv', index=False)"
   ]
  },
  {
   "cell_type": "code",
   "execution_count": 17,
   "id": "57f45aea",
   "metadata": {},
   "outputs": [
    {
     "name": "stdout",
     "output_type": "stream",
     "text": [
      "Time per email: 0.2985118007659912\n",
      "To convert the given number of seconds into days and hours, we need to perform two conversions:\n",
      "\n",
      "1. Convert seconds to hours\n",
      "2. Convert hours to days\n",
      "\n",
      "Here's the calculation:\n",
      "\n",
      "**Step 1: Convert seconds to hours**\n",
      "\n",
      "There are 3600 seconds in an hour. To convert seconds to hours, divide the number of seconds by 3600:\n",
      "\n",
      "154450.30422812462 s ÷ 3600 = 42.9875 hours\n",
      "\n",
      "**Step 2: Convert hours to days**\n",
      "\n",
      "There are 24 hours in a day. To convert hours to days, divide the number of hours by 24:\n",
      "\n",
      "42.9875 hours ÷ 24 = 1.7936 days\n",
      "\n",
      "So, the equivalent of 154450.30422812462 seconds is approximately:\n",
      "\n",
      "**1 day, 21 hours, and 55 minutes**\n",
      "\n",
      "Let me know if you have any further questions!\n"
     ]
    }
   ],
   "source": [
    "#Using NIM to determine how long this would take to extract knowledge from all emails:\n",
    "print(f\"Time per email: {time_per_email}\")\n",
    "\n",
    "time_per_email = (end_time - start_time) / 100\n",
    "total_time_for_df = time_per_email * df.shape[0]\n",
    "\n",
    "# Convert the total time for df into days and hours\n",
    "completion = client.chat.completions.create(\n",
    "    model=\"meta/llama-3.1-8b-instruct\",\n",
    "    messages=[\n",
    "        {\"role\": \"system\", \"content\": \"You are a helpful assistant\"},\n",
    "        {\"role\": \"user\", \"content\": f\"convert this number which is in seconds into days and hours: {total_time_for_df}\"}\n",
    "    ],\n",
    "    temperature=0,\n",
    "    top_p=0.7,\n",
    "    max_tokens=250,\n",
    "    stream=False  \n",
    ")\n",
    "\n",
    "# Print the result from the completion\n",
    "result = completion.choices[0].message.content  # Access content property directly\n",
    "print(result)"
   ]
  },
  {
   "cell_type": "code",
   "execution_count": null,
   "id": "b06fb815-da55-4a43-8ed0-6e59ac0cf7f2",
   "metadata": {},
   "outputs": [],
   "source": []
  },
  {
   "cell_type": "code",
   "execution_count": null,
   "id": "25469f72-43fe-45ba-8b23-9a2e2d721d01",
   "metadata": {},
   "outputs": [],
   "source": []
  },
  {
   "cell_type": "code",
   "execution_count": null,
   "id": "c8cfb5f1-af96-410b-b322-997afd032fb8",
   "metadata": {},
   "outputs": [],
   "source": []
  },
  {
   "cell_type": "code",
   "execution_count": null,
   "id": "ce2356e6-39d0-46cc-bad8-d52e48f9fa9c",
   "metadata": {},
   "outputs": [],
   "source": []
  },
  {
   "cell_type": "code",
   "execution_count": null,
   "id": "aa2e238f-5e3d-41ec-bfa3-f3ba4dfc7091",
   "metadata": {},
   "outputs": [],
   "source": []
  },
  {
   "cell_type": "code",
   "execution_count": null,
   "id": "68779581-a844-4533-a973-2fe69565c587",
   "metadata": {},
   "outputs": [],
   "source": []
  },
  {
   "cell_type": "code",
   "execution_count": null,
   "id": "6de22e13-4506-4dda-ad3c-6b39380b87f6",
   "metadata": {},
   "outputs": [],
   "source": []
  }
 ],
 "metadata": {
  "kernelspec": {
   "display_name": "Python 3 (ipykernel)",
   "language": "python",
   "name": "python3"
  },
  "language_info": {
   "codemirror_mode": {
    "name": "ipython",
    "version": 3
   },
   "file_extension": ".py",
   "mimetype": "text/x-python",
   "name": "python",
   "nbconvert_exporter": "python",
   "pygments_lexer": "ipython3",
   "version": "3.11.10"
  }
 },
 "nbformat": 4,
 "nbformat_minor": 5
}
